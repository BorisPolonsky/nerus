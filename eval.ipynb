{
 "cells": [
  {
   "cell_type": "code",
   "execution_count": null,
   "metadata": {},
   "outputs": [],
   "source": [
    "from nerus.log import log_progress\n",
    "from nerus.dump import load_raw\n",
    "from nerus.path import join_path\n",
    "from nerus.const import (\n",
    "    DUMPS_DIR, RAW, JSONL_GZ,\n",
    "    FACTRU, NE5,\n",
    "    PER, LOC, ORG\n",
    ")\n",
    "from nerus.eval import eval_markups\n",
    "\n",
    "\n",
    "path = join_path(DUMPS_DIR, RAW, FACTRU + JSONL_GZ)\n",
    "records = log_progress(load_raw(path), prefix=FACTRU)\n",
    "factru = [_ for _ in records if int(_.source.id) >= 3000]  # testset\n",
    "\n",
    "path = join_path(DUMPS_DIR, RAW, NE5 + JSONL_GZ)\n",
    "records = log_progress(load_raw(path), prefix=NE5)\n",
    "ne5 = list(records)"
   ]
  },
  {
   "cell_type": "markdown",
   "metadata": {},
   "source": [
    "# F1"
   ]
  },
  {
   "cell_type": "code",
   "execution_count": null,
   "metadata": {},
   "outputs": [],
   "source": [
    "scores = {}\n",
    "for label, dataset in [(FACTRU, factru), (NE5, ne5)]:\n",
    "    etalon = [_.source.adapted for _ in log_progress(dataset, prefix=label)]\n",
    "    guess = [_.adapted.mixed for _ in log_progress(dataset, prefix=label)]\n",
    "    scores[label] = eval_markups(log_progress(guess, prefix=label), etalon)"
   ]
  },
  {
   "cell_type": "code",
   "execution_count": null,
   "metadata": {},
   "outputs": [],
   "source": [
    "import pandas as pd\n",
    "\n",
    "\n",
    "data = []\n",
    "for source in [FACTRU, NE5]:\n",
    "    for type in [PER, LOC, ORG]:\n",
    "        f1 = scores[source][type].f1\n",
    "        data.append([source, type, f1])\n",
    "\n",
    "table = pd.DataFrame(data, columns=['source', 'type', 'f1'])\n",
    "table = table.pivot('source', 'type', 'f1')\n",
    "table = table.reindex(index=[FACTRU, NE5], columns=[PER, LOC, ORG])\n",
    "display(table)\n",
    "print(table.to_html())"
   ]
  },
  {
   "cell_type": "markdown",
   "metadata": {},
   "source": [
    "<table border=\"1\" class=\"dataframe\">\n",
    "  <thead>\n",
    "    <tr style=\"text-align: right;\">\n",
    "      <th>type</th>\n",
    "      <th>PER</th>\n",
    "      <th>LOC</th>\n",
    "      <th>ORG</th>\n",
    "    </tr>\n",
    "    <tr>\n",
    "      <th>source</th>\n",
    "      <th></th>\n",
    "      <th></th>\n",
    "      <th></th>\n",
    "    </tr>\n",
    "  </thead>\n",
    "  <tbody>\n",
    "    <tr>\n",
    "      <th>factru</th>\n",
    "      <td>0.966348</td>\n",
    "      <td>0.910089</td>\n",
    "      <td>0.792040</td>\n",
    "    </tr>\n",
    "    <tr>\n",
    "      <th>ne5</th>\n",
    "      <td>0.986165</td>\n",
    "      <td>0.930071</td>\n",
    "      <td>0.849115</td>\n",
    "    </tr>\n",
    "  </tbody>\n",
    "</table>"
   ]
  },
  {
   "cell_type": "markdown",
   "metadata": {},
   "source": [
    "# Error examples"
   ]
  },
  {
   "cell_type": "code",
   "execution_count": null,
   "metadata": {
    "scrolled": false
   },
   "outputs": [],
   "source": [
    "from random import seed, sample\n",
    "\n",
    "from ipymarkup import show_ascii_markup as show_markup\n",
    "\n",
    "from nerus.utils import iter_sents\n",
    "\n",
    "\n",
    "seed(1)\n",
    "records = sample(ne5, 10)\n",
    "sents = list(iter_sents(records))\n",
    "for sent in sents:\n",
    "    etalon = sent.source.adapted\n",
    "    guess = sent.adapted.mixed\n",
    "    if etalon == guess:\n",
    "        continue\n",
    "    print('etalon')\n",
    "    show_markup(etalon.text, etalon.spans)\n",
    "    print('guess')\n",
    "    show_markup(guess.text, guess.spans)\n",
    "    print('---')"
   ]
  }
 ],
 "metadata": {
  "kernelspec": {
   "display_name": "Python 3",
   "language": "python",
   "name": "python3"
  },
  "language_info": {
   "codemirror_mode": {
    "name": "ipython",
    "version": 3
   },
   "file_extension": ".py",
   "mimetype": "text/x-python",
   "name": "python",
   "nbconvert_exporter": "python",
   "pygments_lexer": "ipython3",
   "version": "3.5.1"
  }
 },
 "nbformat": 4,
 "nbformat_minor": 2
}
